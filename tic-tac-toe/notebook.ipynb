{
  "nbformat": 4,
  "nbformat_minor": 0,
  "metadata": {
    "colab": {
      "name": "Tic Tac Toe DRL",
<<<<<<< HEAD
      "provenance": []
=======
      "provenance": [],
      "mount_file_id": "https://github.com/nomomon/drl-js/blob/main/tic-tac-toe/notebook.ipynb",
      "authorship_tag": "ABX9TyPCtg4g1EolgXTAcX2IDei1",
      "include_colab_link": true
>>>>>>> 50b53ad2a0ee91ca1048d7ac1c5fb5eed82c7a42
    },
    "kernelspec": {
      "name": "python3",
      "display_name": "Python 3"
    },
    "language_info": {
      "name": "python"
    },
    "accelerator": "GPU"
  },
  "cells": [
    {
      "cell_type": "code",
      "metadata": {
        "id": "USBl0Klfol8d"
      },
      "source": [
        "import tensorflow as tf\n",
        "from tensorflow import keras\n",
        "from tensorflow.keras import layers\n",
        "\n",
        "import numpy as np\n",
        "\n",
        "import random"
      ],
      "execution_count": 2,
      "outputs": []
    },
    {
      "cell_type": "markdown",
      "metadata": {
        "id": "7LTQEPi62q5i"
      },
      "source": [
        "# Game (Environment)"
      ]
    },
    {
      "cell_type": "code",
      "metadata": {
        "id": "YTm9-s892yVX"
      },
      "source": [
        "# 0 1 2\n",
        "# 3 4 5\n",
        "# 6 7 8\n",
        "\n",
        "def gameStatus(board):\n",
        "    lines = [\n",
        "        [0, 1, 2],\n",
        "        [3, 4, 5],\n",
        "        [6, 7, 8],\n",
        "        [0, 3, 6],\n",
        "        [1, 4, 7],\n",
        "        [2, 5, 8],\n",
        "        [0, 4, 8],\n",
        "        [2, 4, 6],\n",
        "    ]\n",
        "\n",
        "    # there is a winner\n",
        "    for line in lines:\n",
        "        if (board[line[1]] == board[line[0]] and \n",
        "            board[line[1]] == board[line[2]] and \n",
        "            board[line[1]] != 0):\n",
        "            return board[line[1]]\n",
        "\n",
        "    # tie\n",
        "    if(np.all(np.array(board) != 0)):\n",
        "        return 0.5\n",
        "\n",
        "    # game is not finished\n",
        "    return 0"
      ],
      "execution_count": 3,
      "outputs": []
    },
    {
      "cell_type": "markdown",
      "metadata": {
        "id": "eXrTo_vwVY2y"
      },
      "source": [
        "# Model"
      ]
    },
    {
      "cell_type": "code",
      "metadata": {
        "id": "paoZzPA1Vckz"
      },
      "source": [
        "### Agent ###\n",
        "\n",
        "def createPolicy():\n",
        "    model = tf.keras.Sequential([\n",
        "        layers.InputLayer((9,)),\n",
        "        layers.Dense(10, activation = \"relu\"),\n",
        "        layers.Dense(10, activation = \"relu\"),\n",
        "        layers.Dense(9, activation = None)\n",
        "    ])\n",
        "\n",
        "    return model"
      ],
      "execution_count": 4,
      "outputs": []
    },
    {
      "cell_type": "code",
      "metadata": {
        "id": "Q9sczKIvAKML",
        "colab": {
          "base_uri": "https://localhost:8080/"
        },
        "outputId": "0affe6c5-0073-4dda-bb49-e4f8e51e6a6b"
      },
      "source": [
        "policy = createPolicy()\n",
        "policy.summary()"
      ],
      "execution_count": 5,
      "outputs": [
        {
          "output_type": "stream",
          "name": "stdout",
          "text": [
            "Model: \"sequential\"\n",
            "_________________________________________________________________\n",
            " Layer (type)                Output Shape              Param #   \n",
            "=================================================================\n",
            " dense (Dense)               (None, 10)                100       \n",
            "                                                                 \n",
            " dense_1 (Dense)             (None, 10)                110       \n",
            "                                                                 \n",
            " dense_2 (Dense)             (None, 9)                 99        \n",
            "                                                                 \n",
            "=================================================================\n",
            "Total params: 309\n",
            "Trainable params: 309\n",
            "Non-trainable params: 0\n",
            "_________________________________________________________________\n"
          ]
        }
      ]
    },
    {
      "cell_type": "code",
      "metadata": {
        "id": "z4dIASq1cVsb"
      },
      "source": [
        "def chooseAction(policy, board, epsilon = 0):\n",
        "    mask = [-np.inf if v != 0 else 0 for v in board]\n",
        "\n",
        "    if np.random.rand(1) > epsilon:\n",
        "        logits = policy.predict([board])\n",
        "\n",
        "        possibleLogits = tf.math.add(\n",
        "            logits, \n",
        "            mask\n",
        "        )\n",
        "\n",
        "    else:\n",
        "        possibleLogits = [mask] + np.log(1/9)\n",
        "     \n",
        "    action = tf.random.categorical(possibleLogits, num_samples = 1)\n",
        "    action = action.numpy().flatten()[0]\n",
        "\n",
        "    return action"
      ],
      "execution_count": 6,
      "outputs": []
    },
    {
      "cell_type": "code",
      "metadata": {
        "id": "tUvb1yK-Ylt8"
      },
      "source": [
        "### Agent Memory ###\n",
        "\n",
        "class Memory:\n",
        "    def __init__(self): \n",
        "        self.clear()\n",
        "\n",
        "    def clear(self): \n",
        "        self.observations = []\n",
        "        self.actions = []\n",
        "        self.rewards = []\n",
        "\n",
        "    def add_to_memory(self, new_observation, new_action, new_reward): \n",
        "        self.observations.append(new_observation)\n",
        "        self.actions.append(new_action)\n",
        "        self.rewards.append(new_reward)\n",
        "\n",
        "    # Helper function to combine a list of Memory objects into a single Memory.\n",
        "    # This will be very useful for batching.\n",
        "    def aggregate_memories(memories):\n",
        "        batch_memory = Memory()\n",
        "\n",
        "        for memory in memories:\n",
        "            for step in zip(memory.observations, memory.actions, memory.rewards):\n",
        "                batch_memory.add_to_memory(*step)\n",
        "\n",
        "        return batch_memory"
      ],
      "execution_count": 7,
      "outputs": []
    },
    {
      "cell_type": "code",
      "metadata": {
        "id": "O6al8fgdZZ7L"
      },
      "source": [
        "def normalize(x):\n",
        "    x -= np.mean(x)\n",
        "    x /= np.std(x)\n",
        "    return x.astype(np.float32)\n",
        "\n",
        "# Compute normalized, discounted, cumulative rewards (i.e., return)\n",
        "# Arguments:\n",
        "#   rewards: reward at timesteps in episode\n",
        "#   gamma: discounting factor\n",
        "# Returns:\n",
        "#   normalized discounted reward\n",
        "def discount_rewards(rewards, gamma = 0.8): \n",
        "    discounted_rewards = np.zeros_like(rewards)\n",
        "    \n",
        "    R = 0\n",
        "    for t in reversed(range(0, len(rewards))):\n",
        "        R = R * gamma + rewards[t]\n",
        "        discounted_rewards[t] = R\n",
        "        \n",
        "    return normalize(discounted_rewards)"
      ],
      "execution_count": 8,
      "outputs": []
    },
    {
      "cell_type": "code",
      "metadata": {
        "id": "e1CT1UZeXfuz"
      },
      "source": [
        "def compute_loss(logits, actions, rewards):\n",
        "    neg_logprob = tf.nn.sparse_softmax_cross_entropy_with_logits(\n",
        "        logits=logits, \n",
        "        labels=actions\n",
        "    )\n",
        "    # reinforce\n",
        "    loss = tf.reduce_mean(\n",
        "        neg_logprob * rewards\n",
        "    )\n",
        "    \n",
        "    return loss"
      ],
      "execution_count": 9,
      "outputs": []
    },
    {
      "cell_type": "code",
      "metadata": {
        "id": "EhdMcQ-ImYEk"
      },
      "source": [
        "### Training step (forward and backpropagation) ###\n",
        "\n",
        "def train_step(model, optimizer, observations, actions, discounted_rewards):\n",
        "  with tf.GradientTape() as tape:\n",
        "      logits = model(observations)\n",
        "      loss = compute_loss(logits, actions, discounted_rewards)\n",
        "\n",
        "  grads = tape.gradient(loss, model.trainable_variables)\n",
        "  optimizer.apply_gradients(zip(grads, model.trainable_variables))\n",
        "\n",
        "  return loss\n"
      ],
      "execution_count": 10,
      "outputs": []
    },
    {
      "cell_type": "markdown",
      "metadata": {
        "id": "d2FOqw41nNuy"
      },
      "source": [
        "# Plot"
      ]
    },
    {
      "cell_type": "code",
      "metadata": {
        "id": "KWvrsjmYnO-l"
      },
      "source": [
        "from IPython.display import clear_output\n",
        "import matplotlib.pyplot as plt"
      ],
      "execution_count": 11,
      "outputs": []
    },
    {
      "cell_type": "code",
      "metadata": {
        "id": "xrpwyKjcnSeP"
      },
      "source": [
        "def plot(points, ylabel = \"\"):\n",
        "    plt.rcParams[\"figure.figsize\"] = (7, 4)\n",
        "    plt.clf()\n",
        "    plt.plot(points)\n",
        "    plt.ylabel(ylabel)\n",
        "    plt.xlabel(\"episode\")\n",
        "    plt.show()\n",
        "\n",
        "def smooth(points, alpha = 0.05):\n",
        "    smoothed = [points[0]]\n",
        "\n",
        "    for i in range(1, len(points)):\n",
        "        smoothed.append(points[i] * alpha + smoothed[i - 1] * (1 - alpha))\n",
        "\n",
        "    return smoothed"
      ],
      "execution_count": 12,
      "outputs": []
    },
    {
      "cell_type": "markdown",
      "metadata": {
        "id": "AWxUpuDsbAuK"
      },
      "source": [
        "# Training"
      ]
    },
    {
      "cell_type": "code",
      "metadata": {
        "id": "oc92tQCwsH2u"
      },
      "source": [
        "winper_points = []\n",
        "reward_points = []\n",
        "hist_points = []\n",
        "\n",
        "episode = 0\n",
        "policy = createPolicy()\n",
        "\n",
        "memory = Memory()"
      ],
      "execution_count": 13,
      "outputs": []
    },
    {
      "cell_type": "code",
      "metadata": {
<<<<<<< HEAD
        "id": "82CNMdBia2js",
        "colab": {
          "base_uri": "https://localhost:8080/",
          "height": 855
        },
        "outputId": "e0ce4722-ad76-49cf-f48e-d71a00f9055d"
=======
        "id": "82CNMdBia2js"
>>>>>>> 50b53ad2a0ee91ca1048d7ac1c5fb5eed82c7a42
      },
      "source": [
        "learning_rate = 1e-3\n",
        "optimizer = tf.keras.optimizers.Adam(learning_rate)\n",
        "\n",
        "opponent_policy = tf.keras.models.clone_model(policy)\n",
        "\n",
        "for episode in range(episode, 1000):\n",
<<<<<<< HEAD
        "    if (episode + 1) % 100 == 0:\n",
        "        policy.save(\"/content/drive/Shareddrives/ML/model\")\n",
        "\n",
        "\n",
=======
>>>>>>> 50b53ad2a0ee91ca1048d7ac1c5fb5eed82c7a42
        "    board = [0] * 9\n",
        "    memory.clear()\n",
        "    counter = 0\n",
        "    first_time = 1\n",
        "    win = 0\n",
        "\n",
        "    eps = 0.99 ** (episode / 2)\n",
        "\n",
        "    player_goes_first = bool(random.getrandbits(1))\n",
        "\n",
        "    while True:\n",
        "        if(player_goes_first and gameStatus(board) == 0):\n",
        "            action = chooseAction(policy, board, eps)\n",
        "\n",
        "        elif((not player_goes_first) and gameStatus(board) == 0):\n",
        "            if(first_time):\n",
        "                first_time -= 1\n",
        "                opponent_action = chooseAction(policy, (np.array(board) * -1).tolist(), eps)\n",
        "                board[opponent_action] = -1\n",
        "            action = chooseAction(policy, board, eps)\n",
        "\n",
        "        next_board = board\n",
        "        next_board[action] = 1\n",
        "\n",
        "        status = gameStatus(next_board)\n",
        "\n",
        "        if(status == 0): # game goes on\n",
        "            opponent_action = chooseAction(policy, (np.array(next_board) * -1).tolist())\n",
        "            next_board[opponent_action] = -1\n",
        "\n",
        "            status = gameStatus(next_board)\n",
        "    \n",
        "        reward = status\n",
        "\n",
        "        memory.add_to_memory(board, action, reward)\n",
        "\n",
        "        if(status != 0):\n",
        "            win += (status == 1)\n",
        "            counter += 1\n",
        "            next_board = [0] * 9\n",
        "            first_time = 1\n",
        "            player_goes_first = bool(random.getrandbits(1))\n",
        "        \n",
        "        if(status != 0 and counter >= 100):\n",
        "            loss = train_step(\n",
        "                policy, \n",
        "                optimizer, \n",
        "                observations = np.vstack(memory.observations),\n",
        "                actions = np.array(memory.actions),\n",
        "                discounted_rewards = discount_rewards(memory.rewards)\n",
        "            )\n",
        "\n",
        "            total_reward = sum(memory.rewards)\n",
        "            \n",
        "            winper_points.append(win / counter)\n",
        "            reward_points.append(total_reward)\n",
        "            hist_points.append(loss)\n",
        "\n",
        "            clear_output()\n",
        "            plot(smooth(hist_points, 0.01), \"loss\")\n",
        "            plot(smooth(winper_points, 0.01), \"win %\")\n",
        "            plot(smooth(reward_points, 0.01), \"reward\")\n",
        "\n",
        "            print(f\"{episode} loss: {loss}\")\n",
        "            print(f\"{episode} winPer: {win / counter}\")\n",
        "            print(f\"{episode} reward: {total_reward}\")\n",
        "\n",
        "            memory.clear()\n",
        "            board = [0] * 9\n",
        "            counter = 0\n",
        "            first_time = 1\n",
        "\n",
        "            break\n",
        "    \n",
        "        board = next_board"
      ],
      "execution_count": null,
<<<<<<< HEAD
      "outputs": [
        {
          "output_type": "display_data",
          "data": {
            "image/png": "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\n",
            "text/plain": [
              "<Figure size 504x288 with 1 Axes>"
            ]
          },
          "metadata": {
            "needs_background": "light"
          }
        },
        {
          "output_type": "display_data",
          "data": {
            "image/png": "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\n",
            "text/plain": [
              "<Figure size 504x288 with 1 Axes>"
            ]
          },
          "metadata": {
            "needs_background": "light"
          }
        },
        {
          "output_type": "display_data",
          "data": {
            "image/png": "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\n",
            "text/plain": [
              "<Figure size 504x288 with 1 Axes>"
            ]
          },
          "metadata": {
            "needs_background": "light"
          }
        },
        {
          "output_type": "stream",
          "name": "stdout",
          "text": [
            "572 loss: -10.792970657348633\n",
            "572 winPer: 0.36\n",
            "572 reward: -8.5\n"
          ]
        }
      ]
=======
      "outputs": []
>>>>>>> 50b53ad2a0ee91ca1048d7ac1c5fb5eed82c7a42
    },
    {
      "cell_type": "markdown",
      "metadata": {
        "id": "ioprskJo78Ba"
      },
      "source": [
        "# Web demo\n",
        "\n",
        "Play against the AI"
      ]
    },
    {
      "cell_type": "code",
      "metadata": {
        "id": "txGyNjHFhlJY"
      },
      "source": [
        "from IPython.display import clear_output \n",
        "\n",
        "def symbol(x):\n",
        "    if x == 1:\n",
        "        return \"X\"\n",
        "    elif x == -1:\n",
        "        return \"O\"\n",
        "    else:\n",
        "        return \"?\"\n",
        "\n",
        "def printBoard(board):\n",
        "    clear_output()\n",
        "    cBoard = list(map(symbol, board))\n",
        "    for i in range(0, 3):\n",
        "        row = \"\"\n",
        "        for j in range(0, 3):\n",
        "            row += (cBoard[j + i * 3]) if (cBoard[j + i * 3] != \"?\") else str(j + i * 3 + 1)\n",
        "            if j != 2:\n",
        "                row += \" | \"\n",
        "        print(row)\n",
        "        if i != 2:\n",
        "            print(\"---------\")\n",
        "\n",
        "def play(policy):\n",
        "    player = (int(input(\"which player you want to be? (1 or 2) \")) + 1) % 2 \n",
        "\n",
        "    board = [0, 0, 0,\n",
        "             0, 0, 0,\n",
        "             0, 0, 0]\n",
        "\n",
        "    winner = 0\n",
        "\n",
        "    for i in range(9):\n",
        "        if (i % 2 == player):\n",
        "            printBoard(board)\n",
        "            action = int(input(\"what cell? \")) - 1\n",
        "        else:\n",
        "            action = chooseAction(policy, board.copy())\n",
        "\n",
        "        board[action] = 1\n",
        "\n",
        "        if(gameStatus(board) != 0):\n",
        "            winner = gameStatus(board)+1\n",
        "            break\n",
        "\n",
        "        board = (np.array(board) * -1).tolist()\n",
        "    \n",
        "    printBoard(board)\n",
        "    if(gameStatus(board) != 0):\n",
        "        print(\"\\nwinner is the\", \"humen\" if winner else \"ai\")\n",
        "    else:\n",
        "        print(\"\\nit's a tie!\")"
      ],
      "execution_count": null,
      "outputs": []
    },
    {
      "cell_type": "code",
      "metadata": {
        "colab": {
          "base_uri": "https://localhost:8080/"
        },
        "id": "NuGYnTxMkMOd",
        "outputId": "4d16b8b7-81c6-44f9-edb2-41ac1c730f6e"
      },
      "source": [
        "play(policy)"
      ],
      "execution_count": null,
      "outputs": [
        {
          "output_type": "stream",
          "name": "stdout",
          "text": [
            "X | X | O\n",
            "---------\n",
            "O | X | 6\n",
            "---------\n",
            "O | X | O\n",
            "\n",
            "winner is the humen\n"
          ]
        }
      ]
    },
    {
      "cell_type": "markdown",
      "metadata": {
        "id": "8RyU3L043ogp"
      },
      "source": [
        "# Deploy to TF.js"
      ]
    },
    {
      "cell_type": "code",
      "metadata": {
        "id": "c6h2d--F5EKx"
      },
      "source": [
        "%%capture\n",
        "\n",
        "!pip install tensorflowjs[wizard]\n",
        "!pip install -U ipython"
      ],
      "execution_count": null,
      "outputs": []
    },
    {
      "cell_type": "code",
      "metadata": {
        "id": "eBh6IN3m4O3l",
        "colab": {
          "base_uri": "https://localhost:8080/"
        },
        "outputId": "f0969dc7-3fa9-439d-af32-70f168ee2bef"
      },
      "source": [
        "policy.save(\"./model/\")"
      ],
      "execution_count": null,
      "outputs": [
        {
          "output_type": "stream",
          "name": "stdout",
          "text": [
            "WARNING:tensorflow:Compiled the loaded model, but the compiled metrics have yet to be built. `model.compile_metrics` will be empty until you train or evaluate the model.\n",
            "INFO:tensorflow:Assets written to: ./model/assets\n"
          ]
        }
      ]
    },
    {
      "cell_type": "code",
      "metadata": {
        "id": "D8mh__hd4wl_",
        "colab": {
          "base_uri": "https://localhost:8080/"
        },
        "outputId": "0333e1a0-6a48-4f3c-cb8a-016092b70794"
      },
      "source": [
        "!tensorflowjs_converter --input_format=keras_saved_model /content/model /content/tfjs_model"
      ],
      "execution_count": null,
      "outputs": [
        {
          "output_type": "stream",
          "name": "stdout",
          "text": [
            "2021-11-27 20:48:25.571197: W tensorflow/core/common_runtime/gpu/gpu_bfc_allocator.cc:39] Overriding allow_growth setting because the TF_FORCE_GPU_ALLOW_GROWTH environment variable is set. Original config value was 0.\n",
            "WARNING:tensorflow:No training configuration found in save file, so the model was *not* compiled. Compile it manually.\n"
          ]
        }
      ]
    }
  ]
}