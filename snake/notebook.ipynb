{
  "nbformat": 4,
  "nbformat_minor": 0,
  "metadata": {
    "colab": {
      "name": "RL – Snake.ipynb",
      "provenance": [],
      "authorship_tag": "ABX9TyO+wNT6ok0qraKX5/OUxKzG",
      "include_colab_link": true
    },
    "kernelspec": {
      "name": "python3",
      "display_name": "Python 3"
    },
    "language_info": {
      "name": "python"
    }
  },
  "cells": [
    {
      "cell_type": "markdown",
      "metadata": {
        "id": "view-in-github",
        "colab_type": "text"
      },
      "source": [
        "<a href=\"https://colab.research.google.com/github/nomomon/drl-js/blob/main/snake/notebook.ipynb\" target=\"_parent\"><img src=\"https://colab.research.google.com/assets/colab-badge.svg\" alt=\"Open In Colab\"/></a>"
      ]
    },
    {
      "cell_type": "code",
      "metadata": {
        "id": "irQqxiNCcvPp"
      },
      "source": [
        "import tensorflow as tf\n",
        "import numpy as np"
      ],
      "execution_count": null,
      "outputs": []
    },
    {
      "cell_type": "code",
      "metadata": {
        "id": "YGekh8e2dqOW"
      },
      "source": [
        "# -1 - wall\n",
        "#  1 - snake\n",
        "#  2 - apple\n",
        "\n",
        "def createBoard(width = 12, height = 12):\n",
        "    board = np.zeros((width, height))\n",
        "    board[0, :]  = -1\n",
        "    board[:, 0]  = -1\n",
        "    board[:, -1] = -1\n",
        "    board[-1, :] = -1\n",
        "\n",
        "    return board\n",
        "\n",
        "def initBoard(board):\n",
        "    # place apple\n",
        "    empty = np.stack(np.where(board == 0))\n",
        "    newPointIndex = np.random.randint(empty.shape[0], size = 1)[0]\n",
        "    newPoint = empty[newPointIndex]\n",
        "    board[newPoint[0]][newPoint[1]] = 2\n",
        "    \n",
        "    # place snake\n",
        "    empty = np.stack(np.where(board == 0))\n",
        "    newPointIndex = np.random.randint(empty.shape[0], size = 1)[0]\n",
        "    newPoint = empty[newPointIndex]\n",
        "    board[newPoint[0]][newPoint[1]] = 1\n",
        "\n",
        "    snake = [newPoint]\n",
        "\n",
        "    return board, snake\n",
        "\n",
        "def showBoard(board):\n",
        "    width, height = board.shape\n",
        "    for i in range(width):\n",
        "        row = \"\"\n",
        "        for j in range(height):\n",
        "            if board[i][j] == -1:\n",
        "                row += \"■ \"\n",
        "            elif board[i][j] == 0:\n",
        "                row += \"  \"\n",
        "            elif board[i][j] == 1:\n",
        "                row += \"▢ \"\n",
        "            elif board[i][j] == 2:\n",
        "                row += \" \"\n",
        "        print(row)\n",
        "\n",
        "def play(board, snake, action):\n",
        "    # 0 - up\n",
        "    # 1 - right\n",
        "    # 2 - down\n",
        "    # 3 - left\n",
        "\n",
        "    # snake[0]  - head\n",
        "    # snake[-1] - tail\n",
        "\n",
        "    if(action == 0):\n",
        "        nextState = (snake[0][0] + 1, snake[0][1])\n",
        "    elif(action == 1):\n",
        "        nextState = (snake[0][0], snake[0][1] + 1)\n",
        "    elif(action == 2):\n",
        "        nextState = (snake[0][0] - 1, snake[0][1])\n",
        "    elif(action == 3):\n",
        "        nextState = (snake[0][0], snake[0][1] - 1)\n",
        "    \n",
        "    # hit a wall or it self\n",
        "    if(board[nextState[0]][nextState[1]] == -1 or \n",
        "       board[nextState[0]][nextState[1]] == 1):\n",
        "        return board, snake, 0\n",
        "    \n",
        "    # ate the apple\n",
        "    if(board[nextState[0]][nextState[1]] == 2):\n",
        "        # update the snake\n",
        "        board[nextState[0]][nextState[1]] = 1\n",
        "        snake = np.concatenate(nextState, snake)\n",
        "\n",
        "        # new apple\n",
        "        empty = np.stack(np.where(board == 0))\n",
        "        newPointIndex = np.random.randint(empty.shape[0], size = 1)[0]\n",
        "        newPoint = empty[newPointIndex]\n",
        "        board[newPoint[0]][newPoint[1]] = 2\n",
        "\n",
        "        return board, snake, 1\n",
        "    \n",
        "    # nothing happened\n",
        "    if(board[nextState[0]][nextState[1]] == 0):\n",
        "        board[nextState[0]][nextState[1]] = 1\n",
        "        snake = np.concatenate(nextState, snake)[:-1]\n",
        "\n",
        "        return board, snake, 1\n",
        "                "
      ],
      "execution_count": null,
      "outputs": []
    },
    {
      "cell_type": "code",
      "metadata": {
        "colab": {
          "base_uri": "https://localhost:8080/"
        },
        "id": "RRpwfyGomuHE",
        "outputId": "9a1df159-a68b-47ea-a76b-dd1ac1f1249d"
      },
      "source": [
        "showBoard(initBoard(createBoard())[0])"
      ],
      "execution_count": null,
      "outputs": [
        {
          "output_type": "stream",
          "name": "stdout",
          "text": [
            "■ ■ ■ ■ ■ ■ ■ ■ ■ ■ ■ ■ \n",
            "■ ▢                  ■ \n",
            "■                     ■ \n",
            "■                     ■ \n",
            "■                     ■ \n",
            "■                     ■ \n",
            "■                     ■ \n",
            "■                     ■ \n",
            "■                     ■ \n",
            "■                     ■ \n",
            "■                     ■ \n",
            "■ ■ ■ ■ ■ ■ ■ ■ ■ ■ ■ ■ \n"
          ]
        }
      ]
    }
  ]
}